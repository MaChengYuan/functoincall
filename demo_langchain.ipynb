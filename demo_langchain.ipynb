{
 "cells": [
  {
   "cell_type": "code",
   "execution_count": 32,
   "metadata": {},
   "outputs": [],
   "source": [
    "from langchain_function_DB import tools,available_functions\n",
    "from start_model import model_starter\n",
    "from langchain_core.messages import HumanMessage,AIMessage,SystemMessage,FunctionMessage\n",
    "from langchain.memory import ConversationBufferMemory\n",
    "import datetime\n",
    "from writelog import write_info"
   ]
  },
  {
   "cell_type": "code",
   "execution_count": 33,
   "metadata": {},
   "outputs": [],
   "source": [
    "\n",
    "llm = model_starter()"
   ]
  },
  {
   "cell_type": "code",
   "execution_count": 46,
   "metadata": {},
   "outputs": [],
   "source": [
    "# memory = ConversationBufferMemory(memory_key=\"chat_history\", return_messages=True)\n",
    "memory = list()\n",
    "system_prompt = \"\"\"\n",
    "    [Today]\n",
    "    {date}\n",
    "    You are an agent who is capable of applying multiple [tools] to get to correct information when [previous output] is not enough to answer the question\n",
    "\n",
    "    you should follow instrucitons below : \n",
    "\n",
    "    following are instruciton of this process : \n",
    "    1. check time and company name and company number are identified correctly or no , especailly if time is mentioned to be latest then you should match year and quarter between [Today] and [previous output] as priority\n",
    "    2. confirm  whether [previous output] could answer the query. If it is enough to answer the question then stop the search , otherwise initiate a search to correct the data.\n",
    "    3. [previous output] contains tools used and its output, be careful with same output from same function.\n",
    "    4. if the information you try to retrieve is not existing, you will change the quarter and year to fetch another information\n",
    "    5. before you use API searches information, explain to the user how you will fulfill their requests with the functions provided\n",
    "    6. please respond in traditional chinese !!!\"\"\".format(date = datetime.date.today().strftime(\"%Y-%m-%d\"))\n",
    "# memory.chat_memory.add_message(SystemMessage(system_prompt)) # system prompt\n",
    "memory.append(SystemMessage(system_prompt)) # system prompt\n",
    "\n",
    "llm_with_tools = llm.bind_tools(tools)\n",
    "# Define a function to manage memory and pass it as context\n",
    "\n",
    "def run_agent_with_memory(agent, query, memory):\n",
    "    # memory.chat_memory.add_user_message(HumanMessage(query))\n",
    "\n",
    "    # covert to langchain class\n",
    "\n",
    "    # ai_msg = agent.invoke(memory.chat_memory.messages)\n",
    "    ai_msg = agent.invoke(memory)\n",
    "\n",
    "\n",
    "    # memory.chat_memory.add_ai_message(ai_msg)\n",
    "    memory.append(ai_msg)\n",
    "\n",
    "    return ai_msg\n",
    "\n",
    "# execute function\n",
    "def execute_function(agent,ai_msg,query,memory):\n",
    "    info = list()\n",
    "    # memory.chat_memory.add_message(AIMessage(ai_msg.additional_kwargs)) # tool_calls first\n",
    "    while(ai_msg.response_metadata['finish_reason'] == 'tool_calls'):\n",
    "        for tool_call in ai_msg.tool_calls:\n",
    "            tool = available_functions[tool_call[\"name\"]]\n",
    "            tool_msg = tool.invoke(tool_call)\n",
    "            # memory.chat_memory.add_message(tool_msg)\n",
    "            memory.append(tool_msg)\n",
    "            info.append(tool_msg)\n",
    "        ai_msg = run_agent_with_memory(agent, query, memory)\n",
    "    return ai_msg\n",
    "# Generate a response\n",
    "def response_llm(llm,info,query,memory):\n",
    "    system_prompt = \"請用拿到的資訊針對問題給出回覆，並且以繁體中文給使用者進行回覆: {out}\"\n",
    "    response = llm.invoke([SystemMessage(content=system_prompt.format(out = info)),\n",
    "                            HumanMessage(content=query)])\n",
    "    # memory.chat_memory.add_message(response)\n",
    "    memory.append(response)\n",
    "\n",
    "    return response\n"
   ]
  },
  {
   "cell_type": "code",
   "execution_count": 49,
   "metadata": {},
   "outputs": [
    {
     "name": "stdout",
     "output_type": "stream",
     "text": [
      "精誠（公司代號：6214）在2023年第3季的財報如下：\n",
      "\n",
      "- 營業收入：24,859,631 元\n",
      "- 營業成本：19,131,844 元\n",
      "- 營業毛利：5,727,787 元\n",
      "- 營業費用：4,591,414 元\n",
      "- 營業利益：1,136,373 元\n",
      "- 燘外收入及支出：449,672 元\n",
      "- 稅前淨利：1,586,045 元\n",
      "- 所得稅費用：302,425 元\n",
      "- 繼續營業單位本期淨利：1,283,620 元\n",
      "- 本期淨利：1,283,620 元\n",
      "- 淨利（歸屬於母公司業主）：1,218,745 元\n",
      "- 每股盈餘：4.91 元\n",
      "- 其他綜合損益：146,569 元\n",
      "\n",
      "如需進一步資訊，請告訴我！\n"
     ]
    }
   ],
   "source": [
    "query = '我要精誠的最新財報'\n",
    "# query = \"我想要精誠，台積電跟鴻海的的最新財報\"\n",
    "\n",
    "memory.append(HumanMessage(query))\n",
    "ai_msg = run_agent_with_memory(llm_with_tools,query, memory)\n",
    "info = execute_function(llm_with_tools,ai_msg,query,memory)\n",
    "# response = response_llm(llm,info,query,memory)\n",
    "for i in info.content.split('\\n'):\n",
    "    print(i)"
   ]
  },
  {
   "cell_type": "code",
   "execution_count": 50,
   "metadata": {},
   "outputs": [
    {
     "data": {
      "text/plain": [
       "[SystemMessage(content='\\n    [Today]\\n    2024-11-21\\n    You are an agent who is capable of applying multiple [tools] to get to correct information when [previous output] is not enough to answer the question\\n\\n    you should follow instrucitons below : \\n\\n    following are instruciton of this process : \\n    1. check time and company name and company number are identified correctly or no , especailly if time is mentioned to be latest then you should match year and quarter between [Today] and [previous output] as priority\\n    2. confirm  whether [previous output] could answer the query. If it is enough to answer the question then stop the search , otherwise initiate a search to correct the data.\\n    3. [previous output] contains tools used and its output, be careful with same output from same function.\\n    4. if the information you try to retrieve is not existing, you will change the quarter and year to fetch another information\\n    5. before you use API searches information, explain to the user how you will fulfill their requests with the functions provided\\n    6. please respond in traditional chinese !!!', additional_kwargs={}, response_metadata={}),\n",
       " HumanMessage(content='我要精誠的最新財報', additional_kwargs={}, response_metadata={}),\n",
       " AIMessage(content='', additional_kwargs={'tool_calls': [{'id': 'call_a5yuahSpZE7qR9IbWprs5eHf', 'function': {'arguments': '{\"query\":\"精誠\"}', 'name': 'find_company_id_data'}, 'type': 'function'}], 'refusal': None}, response_metadata={'token_usage': {'completion_tokens': 18, 'prompt_tokens': 393, 'total_tokens': 411, 'completion_tokens_details': None, 'prompt_tokens_details': None}, 'model_name': 'gpt-4o-mini', 'system_fingerprint': 'fp_04751d0b65', 'finish_reason': 'tool_calls', 'logprobs': None, 'content_filter_results': {}}, id='run-6c261c2a-76df-40d0-bdbc-741152996aba-0', tool_calls=[{'name': 'find_company_id_data', 'args': {'query': '精誠'}, 'id': 'call_a5yuahSpZE7qR9IbWprs5eHf', 'type': 'tool_call'}], usage_metadata={'input_tokens': 393, 'output_tokens': 18, 'total_tokens': 411, 'input_token_details': {}, 'output_token_details': {}}),\n",
       " ToolMessage(content='{\"symbol\": 6214}', name='find_company_id_data', tool_call_id='call_a5yuahSpZE7qR9IbWprs5eHf'),\n",
       " AIMessage(content='', additional_kwargs={'tool_calls': [{'id': 'call_ikZUY3b3xKQKJouFpHFEODXq', 'function': {'arguments': '{\"year\":2023,\"quarter\":3,\"symbol\":6214}', 'name': 'financial_property_data'}, 'type': 'function'}], 'refusal': None}, response_metadata={'token_usage': {'completion_tokens': 26, 'prompt_tokens': 428, 'total_tokens': 454, 'completion_tokens_details': None, 'prompt_tokens_details': None}, 'model_name': 'gpt-4o-mini', 'system_fingerprint': 'fp_04751d0b65', 'finish_reason': 'tool_calls', 'logprobs': None, 'content_filter_results': {}}, id='run-737628de-e24b-4a8e-ad62-4f7a0b77ab2a-0', tool_calls=[{'name': 'financial_property_data', 'args': {'year': 2023, 'quarter': 3, 'symbol': 6214}, 'id': 'call_ikZUY3b3xKQKJouFpHFEODXq', 'type': 'tool_call'}], usage_metadata={'input_tokens': 428, 'output_tokens': 26, 'total_tokens': 454, 'input_token_details': {}, 'output_token_details': {}}),\n",
       " ToolMessage(content='{\"公司 代號\": 6214, \"公司名稱\": \"精誠\", \"營業費用\": 4591414.0, \"所得稅費用（利益）\": \"302425\", \"停業單位損益\": \"--\", \"合併前非屬共同控制股權損益\": \"--\", \"合併前非屬共同控制股權綜合損益淨額\": \"--\", \"綜合損益總額歸屬於母公司業主\": \"1362185\", \"綜合損益總額歸屬於共同控制下前手權益\": \"--\", \"綜合損益總額歸屬於非控制權益\": \"68004\", \"基本每股盈餘（元）\": 4.91, \"稅前淨利（淨損）\": 1586045.0, \"繼續營業單位本期淨利（淨損）\": 1283620.0, \"本期淨利（淨損）\": 1283620.0, \"本期綜合損益總額\": 1430189.0, \"淨利（淨損）歸屬於共同控制下前手權益\": \"--\", \"營業收入\": 24859631.0, \"營業成本\": \"19131844\", \"原始認列生物資產及農產品之利益（損失）\": \"--\", \"生物資產當期公允價值減出售成本之變動利益（損失）\": \"--\", \"營業毛利（毛損）\": 5727787.0, \"未實現銷貨（損）益\": \"--\", \"已實現銷貨（損）益\": \"--\", \"營業毛利（毛損）淨額\": 5727787.0, \"其他收益及費損淨額\": \"--\", \"營業利益（損失）\": 1136373.0, \"營業外收入及支出\": 449672.0, \"其他綜合損益（淨額）\": \"146569\", \"淨利（淨損）歸屬於母公司業主\": \"1218745\", \"淨利（淨損）歸屬於非控制權益\": \"64875\", \"year\": 2023, \"quarter\": 3}', name='financial_property_data', tool_call_id='call_ikZUY3b3xKQKJouFpHFEODXq'),\n",
       " AIMessage(content='精誠（公司代號：6214）在2023年第3季的財報如下：\\n\\n- 營業收入：24,859,631 元\\n- 營業成本：19,131,844 元\\n- 營業毛利：5,727,787 元\\n- 營業費用：4,591,414 元\\n- 營業利益：1,136,373 元\\n- 燘外收入及支出：449,672 元\\n- 稅前淨利：1,586,045 元\\n- 所得稅費用：302,425 元\\n- 繼續營業單位本期淨利：1,283,620 元\\n- 本期淨利：1,283,620 元\\n- 淨利（歸屬於母公司業主）：1,218,745 元\\n- 每股盈餘：4.91 元\\n- 其他綜合損益：146,569 元\\n\\n如需進一步資訊，請告訴我！', additional_kwargs={'refusal': None}, response_metadata={'token_usage': {'completion_tokens': 235, 'prompt_tokens': 1025, 'total_tokens': 1260, 'completion_tokens_details': None, 'prompt_tokens_details': None}, 'model_name': 'gpt-4o-mini', 'system_fingerprint': 'fp_04751d0b65', 'finish_reason': 'stop', 'logprobs': None, 'content_filter_results': {}}, id='run-dab24138-a949-467b-991c-ddf98c5e6a5e-0', usage_metadata={'input_tokens': 1025, 'output_tokens': 235, 'total_tokens': 1260, 'input_token_details': {}, 'output_token_details': {}}),\n",
       " AIMessage(content='精誠（公司代號：6214）在2023年第3季的財報如下：\\n\\n- 營業收入：24,859,631 元\\n- 營業成本：19,131,844 元\\n- 營業毛利：5,727,787 元\\n- 營業費用：4,591,414 元\\n- 營業利益：1,136,373 元\\n- 燘外收入及支出：449,672 元\\n- 稅前淨利：1,586,045 元\\n- 所得稅費用：302,425 元\\n- 繼續營業單位本期淨利：1,283,620 元\\n- 本期淨利：1,283,620 元\\n- 淨利（歸屬於母公司業主）：1,218,745 元\\n- 每股盈餘：4.91 元\\n- 其他綜合損益：146,569 元\\n\\n如需進一步資訊，請告訴我！', additional_kwargs={'refusal': None}, response_metadata={'token_usage': {'completion_tokens': 235, 'prompt_tokens': 1263, 'total_tokens': 1498, 'completion_tokens_details': None, 'prompt_tokens_details': None}, 'model_name': 'gpt-4o-mini', 'system_fingerprint': 'fp_04751d0b65', 'finish_reason': 'stop', 'logprobs': None, 'content_filter_results': {}}, id='run-73cdf584-db66-49f6-b5e0-84d3ed6f884b-0', usage_metadata={'input_tokens': 1263, 'output_tokens': 235, 'total_tokens': 1498, 'input_token_details': {}, 'output_token_details': {}})]"
      ]
     },
     "execution_count": 50,
     "metadata": {},
     "output_type": "execute_result"
    }
   ],
   "source": [
    "memory"
   ]
  },
  {
   "cell_type": "code",
   "execution_count": 43,
   "metadata": {},
   "outputs": [
    {
     "name": "stderr",
     "output_type": "stream",
     "text": [
      "/Users/fernandodoro/Desktop/修成/financial_func.py:92: FutureWarning: Passing literal html to 'read_html' is deprecated and will be removed in a future version. To read from a literal string, wrap it in a 'StringIO' object.\n",
      "  dfs = pd.read_html(r.text, header=None)\n"
     ]
    },
    {
     "data": {
      "text/plain": [
       "{'公司 代號': 6214,\n",
       " '公司名稱': '精誠',\n",
       " '營業費用': 4895774.0,\n",
       " '所得稅費用（利益）': '307112',\n",
       " '停業單位損益': '--',\n",
       " '合併前非屬共同控制股權損益': '--',\n",
       " '合併前非屬共同控制股權綜合損益淨額': '--',\n",
       " '綜合損益總額歸屬於母公司業主': '1801841',\n",
       " '綜合損益總額歸屬於共同控制下前手權益': '--',\n",
       " '綜合損益總額歸屬於非控制權益': '67414',\n",
       " '基本每股盈餘（元）': 6.29,\n",
       " '稅前淨利（淨損）': 1949188.0,\n",
       " '繼續營業單位本期淨利（淨損）': 1642076.0,\n",
       " '本期淨利（淨損）': 1642076.0,\n",
       " '本期綜合損益總額': 1869255.0,\n",
       " '淨利（淨損）歸屬於共同控制下前手權益': '--',\n",
       " '營業收入': 28298141.0,\n",
       " '營業成本': '22286313',\n",
       " '原始認列生物資產及農產品之利益（損失）': '--',\n",
       " '生物資產當期公允價值減出售成本之變動利益（損失）': '--',\n",
       " '營業毛利（毛損）': 6011828.0,\n",
       " '未實現銷貨（損）益': '--',\n",
       " '已實現銷貨（損）益': '--',\n",
       " '營業毛利（毛損）淨額': 6011828.0,\n",
       " '其他收益及費損淨額': '--',\n",
       " '營業利益（損失）': 1116054.0,\n",
       " '營業外收入及支出': 833134.0,\n",
       " '其他綜合損益（淨額）': '227179',\n",
       " '淨利（淨損）歸屬於母公司業主': '1575070',\n",
       " '淨利（淨損）歸屬於非控制權益': '67006',\n",
       " 'year': 2024,\n",
       " 'quarter': 3}"
      ]
     },
     "execution_count": 43,
     "metadata": {},
     "output_type": "execute_result"
    }
   ],
   "source": [
    "from financial_func import financial_statement\n",
    "financial_statement(2024,3,6214)"
   ]
  },
  {
   "cell_type": "code",
   "execution_count": null,
   "metadata": {},
   "outputs": [
    {
     "data": {
      "text/plain": [
       "AIMessage(content='為了滿足您的需求，我將進行以下步驟來獲取精誠、台積電和鴻海的最新財報：\\n\\n1. 首先，我會確認這三間公司的最新財報資料，包括公司名稱、公司編號，以及最新的年份和季度是否正確。\\n2. 如果有需要，我會尋找這三間公司的財報資料，並確保它們是最新的。\\n\\n讓我來查找這三間公司的財報資料。請稍候。', additional_kwargs={'tool_calls': [{'id': 'call_alqMOfUyAJdLP3ag9yttij5T', 'function': {'arguments': '{\"query\": \"精誠\"}', 'name': 'find_company_id_data'}, 'type': 'function'}, {'id': 'call_OI3wqzSajtCPOCuN5NLQ6GhP', 'function': {'arguments': '{\"query\": \"台積電\"}', 'name': 'find_company_id_data'}, 'type': 'function'}, {'id': 'call_zBpOGN08uHuY7b0uNOgp52iX', 'function': {'arguments': '{\"query\": \"鴻海\"}', 'name': 'find_company_id_data'}, 'type': 'function'}], 'refusal': None}, response_metadata={'token_usage': {'completion_tokens': 182, 'prompt_tokens': 405, 'total_tokens': 587, 'completion_tokens_details': None, 'prompt_tokens_details': None}, 'model_name': 'gpt-4o-mini', 'system_fingerprint': 'fp_04751d0b65', 'finish_reason': 'tool_calls', 'logprobs': None, 'content_filter_results': {}}, id='run-9dd6e633-46cf-412c-9c73-cc667b12fe7a-0', tool_calls=[{'name': 'find_company_id_data', 'args': {'query': '精誠'}, 'id': 'call_alqMOfUyAJdLP3ag9yttij5T', 'type': 'tool_call'}, {'name': 'find_company_id_data', 'args': {'query': '台積電'}, 'id': 'call_OI3wqzSajtCPOCuN5NLQ6GhP', 'type': 'tool_call'}, {'name': 'find_company_id_data', 'args': {'query': '鴻海'}, 'id': 'call_zBpOGN08uHuY7b0uNOgp52iX', 'type': 'tool_call'}], usage_metadata={'input_tokens': 405, 'output_tokens': 182, 'total_tokens': 587, 'input_token_details': {}, 'output_token_details': {}})"
      ]
     },
     "execution_count": 5,
     "metadata": {},
     "output_type": "execute_result"
    }
   ],
   "source": [
    "ai_msg"
   ]
  },
  {
   "cell_type": "code",
   "execution_count": null,
   "metadata": {},
   "outputs": [
    {
     "ename": "AttributeError",
     "evalue": "'list' object has no attribute 'chat_memory'",
     "output_type": "error",
     "traceback": [
      "\u001b[0;31m---------------------------------------------------------------------------\u001b[0m",
      "\u001b[0;31mAttributeError\u001b[0m                            Traceback (most recent call last)",
      "Cell \u001b[0;32mIn[6], line 1\u001b[0m\n\u001b[0;32m----> 1\u001b[0m \u001b[43mmemory\u001b[49m\u001b[38;5;241;43m.\u001b[39;49m\u001b[43mchat_memory\u001b[49m\u001b[38;5;241m.\u001b[39mmessages\n",
      "\u001b[0;31mAttributeError\u001b[0m: 'list' object has no attribute 'chat_memory'"
     ]
    }
   ],
   "source": [
    "memory.chat_memory.messages"
   ]
  },
  {
   "cell_type": "code",
   "execution_count": 74,
   "metadata": {},
   "outputs": [],
   "source": [
    "memory = list()\n",
    "memory.append(SystemMessage(system_prompt)) # system prompt\n"
   ]
  },
  {
   "cell_type": "code",
   "execution_count": 80,
   "metadata": {},
   "outputs": [],
   "source": [
    "# 如果你指定tool_choice 為某api, finish_reason必定為stop\n",
    "def execute_function(agent,ai_msg,query,memory):\n",
    "    info = list()\n",
    "    # memory.chat_memory.add_message(AIMessage(ai_msg.additional_kwargs)) # tool_calls first\n",
    "    for tool_call in ai_msg.tool_calls:\n",
    "        tool = available_functions[tool_call[\"name\"]]\n",
    "        tool_msg = tool.invoke(tool_call)\n",
    "        # memory.chat_memory.add_message(tool_msg)\n",
    "        memory.append(tool_msg)\n",
    "        info.append(tool_msg)\n",
    "\n",
    "    return info"
   ]
  },
  {
   "cell_type": "code",
   "execution_count": 81,
   "metadata": {},
   "outputs": [
    {
     "name": "stderr",
     "output_type": "stream",
     "text": [
      "\u001b[32m2024-11-21 13:52:33.429\u001b[0m | \u001b[34m\u001b[1mDEBUG   \u001b[0m | \u001b[36mchat_openai\u001b[0m:\u001b[36mchat_with_aoai_gpt\u001b[0m:\u001b[36m224\u001b[0m - \u001b[34m\u001b[1mget_resouce_time=1.0203180313110352 ChatCompletionTime=5.732229948043823\u001b[0m\n",
      "2024-11-21 13:52:33,433 - INFO - prompt_tokens: 58153\n",
      "2024-11-21 13:52:33,436 - INFO - complete_tokens: 18\n",
      "2024-11-21 13:52:33,623 - INFO - company info\n",
      "2024-11-21 13:52:33,624 - INFO - 精誠\n",
      "2024-11-21 13:52:33,624 - INFO - 6214\n"
     ]
    },
    {
     "name": "stdout",
     "output_type": "stream",
     "text": [
      "mid\n"
     ]
    },
    {
     "name": "stderr",
     "output_type": "stream",
     "text": [
      "/Users/fernandodoro/Desktop/修成/financial_func.py:92: FutureWarning: Passing literal html to 'read_html' is deprecated and will be removed in a future version. To read from a literal string, wrap it in a 'StringIO' object.\n",
      "  dfs = pd.read_html(r.text, header=None)\n"
     ]
    },
    {
     "name": "stdout",
     "output_type": "stream",
     "text": [
      "根據最新的財報資訊，精誠（公司代號：6214）的財務狀況如下：\n",
      "\n",
      "- 營業收入：28,298,141 元\n",
      "- 營業成本：22,286,313 元\n",
      "- 營業毛利：6,011,828 元\n",
      "- 營業費用：4,895,774 元\n",
      "- 營業利益：1,116,054 元\n",
      "- 營業外收入及支出：833,134 元\n",
      "- 稅前淨利：1,949,188 元\n",
      "- 所得稅費用：307,112 元\n",
      "- 本期淨利：1,642,076 元\n",
      "- 淨利（歸屬於母公司業主）：1,575,070 元\n",
      "- 基本每股盈餘：6.29 元\n",
      "- 總綜合損益總額：1,869,255 元\n",
      "\n",
      "如需更詳細的資訊或進一步的分析，請告訴我！\n"
     ]
    }
   ],
   "source": [
    "query = '我要精誠的最新財報'\n",
    "# query = \"我想要精誠，台積電跟鴻海的的最新財報\"\n",
    "memory.append(HumanMessage(query))\n",
    "\n",
    "llm_with_tools = llm.bind_tools(tools,tool_choice=\"find_company_id_data\")\n",
    "ai_msg = run_agent_with_memory(llm_with_tools,query, memory)\n",
    "info = execute_function(llm_with_tools,ai_msg,query,memory)\n",
    "\n",
    "print('mid')\n",
    "\n",
    "llm_with_tools = llm.bind_tools(tools,tool_choice=\"financial_property_data\")\n",
    "ai_msg = run_agent_with_memory(llm_with_tools,query, memory)\n",
    "info = execute_function(llm_with_tools,ai_msg,query,memory)\n",
    "\n",
    "ai_msg = response_llm(llm,info,query,memory)\n",
    "for i in ai_msg.content.split('\\n'):\n",
    "    print(i)"
   ]
  },
  {
   "cell_type": "code",
   "execution_count": 82,
   "metadata": {},
   "outputs": [
    {
     "data": {
      "text/plain": [
       "[SystemMessage(content='\\n    [Today]\\n    2024-11-21\\n    You are an agent who is capable of applying multiple [tools] to get to correct information when [previous output] is not enough to answer the question\\n\\n    you should follow instrucitons below : \\n\\n    following are instruciton of this process : \\n    1. check time and company name and company number are identified correctly or no , especailly if time is mentioned to be latest then you should match year and quarter between [Today] and [previous output] as priority\\n    2. confirm  whether [previous output] could answer the query. If it is enough to answer the question then stop the search , otherwise initiate a search to correct the data.\\n    3. [previous output] contains tools used and its output, be careful with same output from same function.\\n    4. if the information you try to retrieve is not existing, you will change the quarter and year to fetch another information\\n    5. before you use API searches information, explain to the user how you will fulfill their requests with the functions provided\\n    6. please respond in traditional chinese !!!', additional_kwargs={}, response_metadata={}),\n",
       " HumanMessage(content='我要精誠的最新財報', additional_kwargs={}, response_metadata={}),\n",
       " AIMessage(content='', additional_kwargs={'tool_calls': [{'id': 'call_2YQ3XFU1g3nezeBNUbFaQjZQ', 'function': {'arguments': '{\"query\":\"精誠\"}', 'name': 'find_company_id_data'}, 'type': 'function'}], 'refusal': None}, response_metadata={'token_usage': {'completion_tokens': 7, 'prompt_tokens': 404, 'total_tokens': 411, 'completion_tokens_details': None, 'prompt_tokens_details': None}, 'model_name': 'gpt-4o-mini', 'system_fingerprint': 'fp_04751d0b65', 'finish_reason': 'stop', 'logprobs': None, 'content_filter_results': {}}, id='run-5faa8f6c-a9a1-42b1-b37c-bb2a4e4deba7-0', tool_calls=[{'name': 'find_company_id_data', 'args': {'query': '精誠'}, 'id': 'call_2YQ3XFU1g3nezeBNUbFaQjZQ', 'type': 'tool_call'}], usage_metadata={'input_tokens': 404, 'output_tokens': 7, 'total_tokens': 411, 'input_token_details': {}, 'output_token_details': {}}),\n",
       " ToolMessage(content='{\"symbol\": 6214}', name='find_company_id_data', tool_call_id='call_2YQ3XFU1g3nezeBNUbFaQjZQ'),\n",
       " AIMessage(content='', additional_kwargs={'tool_calls': [{'id': 'call_oZUz4QIFFuGx43kn07OntNzF', 'function': {'arguments': '{\"year\":2024,\"quarter\":3,\"symbol\":6214}', 'name': 'financial_property_data'}, 'type': 'function'}], 'refusal': None}, response_metadata={'token_usage': {'completion_tokens': 15, 'prompt_tokens': 439, 'total_tokens': 454, 'completion_tokens_details': None, 'prompt_tokens_details': None}, 'model_name': 'gpt-4o-mini', 'system_fingerprint': 'fp_04751d0b65', 'finish_reason': 'stop', 'logprobs': None, 'content_filter_results': {}}, id='run-4b269574-a737-41ea-8297-8d4a9652a1a8-0', tool_calls=[{'name': 'financial_property_data', 'args': {'year': 2024, 'quarter': 3, 'symbol': 6214}, 'id': 'call_oZUz4QIFFuGx43kn07OntNzF', 'type': 'tool_call'}], usage_metadata={'input_tokens': 439, 'output_tokens': 15, 'total_tokens': 454, 'input_token_details': {}, 'output_token_details': {}}),\n",
       " ToolMessage(content='{\"公司 代號\": 6214, \"公司名稱\": \"精誠\", \"營業費用\": 4895774.0, \"所得稅費用（利益）\": \"307112\", \"停業單位損益\": \"--\", \"合併前非屬共同控制股權損益\": \"--\", \"合併前非屬共同控制股權綜合損益淨額\": \"--\", \"綜合損益總額歸屬於母公司業主\": \"1801841\", \"綜合損益總額歸屬於共同控制下前手權益\": \"--\", \"綜合損益總額歸屬於非控制權益\": \"67414\", \"基本每股盈餘（元）\": 6.29, \"稅前淨利（淨損）\": 1949188.0, \"繼續營業單位本期淨利（淨損）\": 1642076.0, \"本期淨利（淨損）\": 1642076.0, \"本期綜合損益總額\": 1869255.0, \"淨利（淨損）歸屬於共同控制下前手權益\": \"--\", \"營業收入\": 28298141.0, \"營業成本\": \"22286313\", \"原始認列生物資產及農產品之利益（損失）\": \"--\", \"生物資產當期公允價值減出售成本之變動利益（損失）\": \"--\", \"營業毛利（毛損）\": 6011828.0, \"未實現銷貨（損）益\": \"--\", \"已實現銷貨（損）益\": \"--\", \"營業毛利（毛損）淨額\": 6011828.0, \"其他收益及費損淨額\": \"--\", \"營業利益（損失）\": 1116054.0, \"營業外收入及支出\": 833134.0, \"其他綜合損益（淨額）\": \"227179\", \"淨利（淨損）歸屬於母公司業主\": \"1575070\", \"淨利（淨損）歸屬於非控制權益\": \"67006\", \"year\": 2024, \"quarter\": 3}', name='financial_property_data', tool_call_id='call_oZUz4QIFFuGx43kn07OntNzF'),\n",
       " AIMessage(content='我將為您查詢精誠（代號：6214）2024年第三季的最新財報資訊。請稍等。', additional_kwargs={'refusal': None}, response_metadata={'token_usage': {'completion_tokens': 31, 'prompt_tokens': 337, 'total_tokens': 368, 'completion_tokens_details': None, 'prompt_tokens_details': None}, 'model_name': 'gpt-4o-mini', 'system_fingerprint': 'fp_04751d0b65', 'finish_reason': 'stop', 'logprobs': None, 'content_filter_results': {}}, id='run-546d03b7-16c3-4487-abd5-4a092edc6563-0', usage_metadata={'input_tokens': 337, 'output_tokens': 31, 'total_tokens': 368, 'input_token_details': {}, 'output_token_details': {}}),\n",
       " HumanMessage(content='我要精誠的最新財報', additional_kwargs={}, response_metadata={}),\n",
       " AIMessage(content='', additional_kwargs={'tool_calls': [{'id': 'call_bxtUkFNNnFqyj9IO55WN0O6r', 'function': {'arguments': '{\"query\":\"精誠\"}', 'name': 'find_company_id_data'}, 'type': 'function'}], 'refusal': None}, response_metadata={'token_usage': {'completion_tokens': 7, 'prompt_tokens': 1083, 'total_tokens': 1090, 'completion_tokens_details': None, 'prompt_tokens_details': None}, 'model_name': 'gpt-4o-mini', 'system_fingerprint': 'fp_04751d0b65', 'finish_reason': 'stop', 'logprobs': None, 'content_filter_results': {}}, id='run-4b91d298-8bb9-42fe-9b44-e1f84566f106-0', tool_calls=[{'name': 'find_company_id_data', 'args': {'query': '精誠'}, 'id': 'call_bxtUkFNNnFqyj9IO55WN0O6r', 'type': 'tool_call'}], usage_metadata={'input_tokens': 1083, 'output_tokens': 7, 'total_tokens': 1090, 'input_token_details': {}, 'output_token_details': {}}),\n",
       " ToolMessage(content='{\"symbol\": 6214}', name='find_company_id_data', tool_call_id='call_bxtUkFNNnFqyj9IO55WN0O6r'),\n",
       " AIMessage(content='', additional_kwargs={'tool_calls': [{'id': 'call_Brbms8uq9ujwqDS719S9phvu', 'function': {'arguments': '{\"year\":2024,\"quarter\":3,\"symbol\":6214}', 'name': 'financial_property_data'}, 'type': 'function'}], 'refusal': None}, response_metadata={'token_usage': {'completion_tokens': 15, 'prompt_tokens': 1118, 'total_tokens': 1133, 'completion_tokens_details': None, 'prompt_tokens_details': None}, 'model_name': 'gpt-4o-mini', 'system_fingerprint': 'fp_04751d0b65', 'finish_reason': 'stop', 'logprobs': None, 'content_filter_results': {}}, id='run-2f381d23-b4be-4c11-ba55-ddfaa855c959-0', tool_calls=[{'name': 'financial_property_data', 'args': {'year': 2024, 'quarter': 3, 'symbol': 6214}, 'id': 'call_Brbms8uq9ujwqDS719S9phvu', 'type': 'tool_call'}], usage_metadata={'input_tokens': 1118, 'output_tokens': 15, 'total_tokens': 1133, 'input_token_details': {}, 'output_token_details': {}}),\n",
       " ToolMessage(content='{\"公司 代號\": 6214, \"公司名稱\": \"精誠\", \"營業費用\": 4895774.0, \"所得稅費用（利益）\": \"307112\", \"停業單位損益\": \"--\", \"合併前非屬共同控制股權損益\": \"--\", \"合併前非屬共同控制股權綜合損益淨額\": \"--\", \"綜合損益總額歸屬於母公司業主\": \"1801841\", \"綜合損益總額歸屬於共同控制下前手權益\": \"--\", \"綜合損益總額歸屬於非控制權益\": \"67414\", \"基本每股盈餘（元）\": 6.29, \"稅前淨利（淨損）\": 1949188.0, \"繼續營業單位本期淨利（淨損）\": 1642076.0, \"本期淨利（淨損）\": 1642076.0, \"本期綜合損益總額\": 1869255.0, \"淨利（淨損）歸屬於共同控制下前手權益\": \"--\", \"營業收入\": 28298141.0, \"營業成本\": \"22286313\", \"原始認列生物資產及農產品之利益（損失）\": \"--\", \"生物資產當期公允價值減出售成本之變動利益（損失）\": \"--\", \"營業毛利（毛損）\": 6011828.0, \"未實現銷貨（損）益\": \"--\", \"已實現銷貨（損）益\": \"--\", \"營業毛利（毛損）淨額\": 6011828.0, \"其他收益及費損淨額\": \"--\", \"營業利益（損失）\": 1116054.0, \"營業外收入及支出\": 833134.0, \"其他綜合損益（淨額）\": \"227179\", \"淨利（淨損）歸屬於母公司業主\": \"1575070\", \"淨利（淨損）歸屬於非控制權益\": \"67006\", \"year\": 2024, \"quarter\": 3}', name='financial_property_data', tool_call_id='call_Brbms8uq9ujwqDS719S9phvu'),\n",
       " AIMessage(content='根據最新的財報資訊，精誠（公司代號：6214）的財務狀況如下：\\n\\n- 營業收入：28,298,141 元\\n- 營業成本：22,286,313 元\\n- 營業毛利：6,011,828 元\\n- 營業費用：4,895,774 元\\n- 營業利益：1,116,054 元\\n- 營業外收入及支出：833,134 元\\n- 稅前淨利：1,949,188 元\\n- 所得稅費用：307,112 元\\n- 本期淨利：1,642,076 元\\n- 淨利（歸屬於母公司業主）：1,575,070 元\\n- 基本每股盈餘：6.29 元\\n- 總綜合損益總額：1,869,255 元\\n\\n如需更詳細的資訊或進一步的分析，請告訴我！', additional_kwargs={'refusal': None}, response_metadata={'token_usage': {'completion_tokens': 230, 'prompt_tokens': 642, 'total_tokens': 872, 'completion_tokens_details': None, 'prompt_tokens_details': None}, 'model_name': 'gpt-4o-mini', 'system_fingerprint': 'fp_04751d0b65', 'finish_reason': 'stop', 'logprobs': None, 'content_filter_results': {}}, id='run-48fa95f8-bea3-4d74-b6ff-bef7e2ebdff8-0', usage_metadata={'input_tokens': 642, 'output_tokens': 230, 'total_tokens': 872, 'input_token_details': {}, 'output_token_details': {}})]"
      ]
     },
     "execution_count": 82,
     "metadata": {},
     "output_type": "execute_result"
    }
   ],
   "source": [
    "memory"
   ]
  },
  {
   "cell_type": "code",
   "execution_count": 83,
   "metadata": {},
   "outputs": [
    {
     "data": {
      "text/plain": [
       "AIMessage(content='根據最新的財報資訊，精誠（公司代號：6214）的財務狀況如下：\\n\\n- 營業收入：28,298,141 元\\n- 營業成本：22,286,313 元\\n- 營業毛利：6,011,828 元\\n- 營業費用：4,895,774 元\\n- 營業利益：1,116,054 元\\n- 營業外收入及支出：833,134 元\\n- 稅前淨利：1,949,188 元\\n- 所得稅費用：307,112 元\\n- 本期淨利：1,642,076 元\\n- 淨利（歸屬於母公司業主）：1,575,070 元\\n- 基本每股盈餘：6.29 元\\n- 總綜合損益總額：1,869,255 元\\n\\n如需更詳細的資訊或進一步的分析，請告訴我！', additional_kwargs={'refusal': None}, response_metadata={'token_usage': {'completion_tokens': 230, 'prompt_tokens': 642, 'total_tokens': 872, 'completion_tokens_details': None, 'prompt_tokens_details': None}, 'model_name': 'gpt-4o-mini', 'system_fingerprint': 'fp_04751d0b65', 'finish_reason': 'stop', 'logprobs': None, 'content_filter_results': {}}, id='run-48fa95f8-bea3-4d74-b6ff-bef7e2ebdff8-0', usage_metadata={'input_tokens': 642, 'output_tokens': 230, 'total_tokens': 872, 'input_token_details': {}, 'output_token_details': {}})"
      ]
     },
     "execution_count": 83,
     "metadata": {},
     "output_type": "execute_result"
    }
   ],
   "source": [
    "ai_msg"
   ]
  }
 ],
 "metadata": {
  "kernelspec": {
   "display_name": "env",
   "language": "python",
   "name": "python3"
  },
  "language_info": {
   "codemirror_mode": {
    "name": "ipython",
    "version": 3
   },
   "file_extension": ".py",
   "mimetype": "text/x-python",
   "name": "python",
   "nbconvert_exporter": "python",
   "pygments_lexer": "ipython3",
   "version": "3.12.4"
  }
 },
 "nbformat": 4,
 "nbformat_minor": 2
}
